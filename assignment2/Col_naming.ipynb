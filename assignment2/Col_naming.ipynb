{
 "cells": [
  {
   "cell_type": "code",
   "execution_count": null,
   "metadata": {
    "collapsed": true
   },
   "outputs": [],
   "source": [
    "import pandas as pd\n",
    "import sklearn\n",
    "import csv\n",
    "import re"
   ]
  },
  {
   "cell_type": "code",
   "execution_count": 29,
   "metadata": {
    "collapsed": false
   },
   "outputs": [
    {
     "name": "stdout",
     "output_type": "stream",
     "text": [
      "ID\n",
      "duration\n",
      "protocol_type\n",
      "service\n",
      "flag\n",
      "src_bytes\n",
      "dst_bytes\n",
      "land\n",
      "wrong_fragment\n",
      "urgent\n",
      "hot\n",
      "num_failed_logins\n",
      "logged_in\n",
      "num_compromised\n",
      "root_shell\n",
      "num_shells\n",
      "num_root\n",
      "num_file_creations\n",
      "su_attempted\n",
      "num_access_files\n",
      "num_outbound_cmds\n",
      "is_hot_login\n",
      "is_guest_login\n",
      "count\n",
      "The\n",
      "srv_count\n",
      "serror_rate\n",
      "rerror_rate\n",
      "same_srv_rate\n",
      "diff_srv_rate\n",
      "The\n",
      "srv_serror_rate\n",
      "srv_rerror_rate\n",
      "srv_diff_host_rate\n",
      "The\n",
      "dst_host_count\n",
      "dst_host_srv_count\n",
      "dst_host_same_srv_rate\n",
      "dst_host_diff_srv_rate\n",
      "dst_host_same_src_port_rate\n",
      "dst_host_srv_diff_host_rate\n",
      "dst_host_serror_rate\n",
      "dst_host_srv_serror_rate\n",
      "dst_host_rerror_rate\n",
      "dst_host_srv_rerror_rate\n",
      "class\n"
     ]
    }
   ],
   "source": [
    "value_dict={}\n",
    "templist=[]\n",
    "with open('feature-description.txt', 'rb') as valfile:\n",
    "    counter=0\n",
    "    for line in valfile:\n",
    "        counter+=1\n",
    "        if counter>1:\n",
    "            if len(line)>2:\n",
    "                line= line.strip()\n",
    "                split_l=line.split()\n",
    "#                 print split_l[1]\n",
    "                templist.append(split_l[1])\n",
    "\n",
    "with open('train_id.csv')\n",
    "                \n",
    "                \n",
    "                \n",
    "            "
   ]
  },
  {
   "cell_type": "code",
   "execution_count": null,
   "metadata": {
    "collapsed": true
   },
   "outputs": [],
   "source": []
  }
 ],
 "metadata": {
  "kernelspec": {
   "display_name": "Python 2",
   "language": "python",
   "name": "python2"
  },
  "language_info": {
   "codemirror_mode": {
    "name": "ipython",
    "version": 2
   },
   "file_extension": ".py",
   "mimetype": "text/x-python",
   "name": "python",
   "nbconvert_exporter": "python",
   "pygments_lexer": "ipython2",
   "version": "2.7.10"
  }
 },
 "nbformat": 4,
 "nbformat_minor": 0
}
